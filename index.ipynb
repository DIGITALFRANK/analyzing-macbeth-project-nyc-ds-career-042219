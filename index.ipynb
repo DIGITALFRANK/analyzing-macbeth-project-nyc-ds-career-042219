{
 "cells": [
  {
   "cell_type": "markdown",
   "metadata": {},
   "source": [
    "# Project: Analyzing Macbeth\n",
    "\n",
    "## Introduction\n",
    "For our first day and first data science project, we're going to do some rudimentry analysis of Shakespeare's classic play: Macbeth! You will get practice working with lists, condtionals and dictionaries, visualizing data, and thinking analytically about data.\n",
    "\n",
    "## Objectives\n",
    "You will be able to:\n",
    "* Show mastery of the content covered in this section\n",
    "\n",
    "## Getting the Data\n",
    "Here we start by importing a python package and using it to pull the transcript of Macbeth from the project Gutenberg website. We also preview a few details about what is now stored in the variable macbeth; it's a string with 119,846 characters, the first 500 of which are printed below. "
   ]
  },
  {
   "cell_type": "code",
   "execution_count": 9,
   "metadata": {},
   "outputs": [
    {
     "name": "stdout",
     "output_type": "stream",
     "text": [
      "<class 'str'>\n",
      "119846\n",
      "﻿***the project gutenberg's etext of shakespeare's first folio***\r\n",
      "********************the tragedie of macbeth*********************\r\n",
      "\r\n",
      "this is our 3rd edition of most of these plays.  see the index.\r\n",
      "\r\n",
      "\r\n",
      "copyright laws are changing all over the world, be sure to check\r\n",
      "the copyright laws for your country before posting these files!!\r\n",
      "\r\n",
      "please take a look at the important information in this header.\r\n",
      "we encourage you to keep this file on your own disk, keeping an\r\n",
      "electronic path open for the nex\n",
      "Help on class filter in module builtins:\n",
      "\n",
      "class filter(object)\n",
      " |  filter(function or None, iterable) --> filter object\n",
      " |  \n",
      " |  Return an iterator yielding those items of iterable for which function(item)\n",
      " |  is true. If function is None, return the items that are true.\n",
      " |  \n",
      " |  Methods defined here:\n",
      " |  \n",
      " |  __getattribute__(self, name, /)\n",
      " |      Return getattr(self, name).\n",
      " |  \n",
      " |  __iter__(self, /)\n",
      " |      Implement iter(self).\n",
      " |  \n",
      " |  __new__(*args, **kwargs) from builtins.type\n",
      " |      Create and return a new object.  See help(type) for accurate signature.\n",
      " |  \n",
      " |  __next__(self, /)\n",
      " |      Implement next(self).\n",
      " |  \n",
      " |  __reduce__(...)\n",
      " |      Return state information for pickling.\n",
      "\n",
      "Help on class map in module builtins:\n",
      "\n",
      "class map(object)\n",
      " |  map(func, *iterables) --> map object\n",
      " |  \n",
      " |  Make an iterator that computes the function using arguments from\n",
      " |  each of the iterables.  Stops when the shortest iterable is exhausted.\n",
      " |  \n",
      " |  Methods defined here:\n",
      " |  \n",
      " |  __getattribute__(self, name, /)\n",
      " |      Return getattr(self, name).\n",
      " |  \n",
      " |  __iter__(self, /)\n",
      " |      Implement iter(self).\n",
      " |  \n",
      " |  __new__(*args, **kwargs) from builtins.type\n",
      " |      Create and return a new object.  See help(type) for accurate signature.\n",
      " |  \n",
      " |  __next__(self, /)\n",
      " |      Implement next(self).\n",
      " |  \n",
      " |  __reduce__(...)\n",
      " |      Return state information for pickling.\n",
      "\n"
     ]
    }
   ],
   "source": [
    "import requests\n",
    "macbeth = requests.get('http://www.gutenberg.org/cache/epub/2264/pg2264.txt').text.lower()\n",
    "\n",
    "print(type(macbeth))\n",
    "print(len(macbeth))\n",
    "print(macbeth[:500])\n",
    "\n",
    "help(filter)\n",
    "help(map)"
   ]
  },
  {
   "cell_type": "markdown",
   "metadata": {},
   "source": [
    "## Your Task\n",
    "\n",
    "Your task is to create a bar graph of the 25 most common words in Shakespeare's Macbeth.  \n",
    "\n",
    "\n",
    "A common python programming pattern to counting objects, produce histograms, or update statistics is to make calls to a dictionary as you iterate through a list. For example, given a list of words, you can create a dictionary to store counts and then iterate through the list of words, checking how many times each word has appeared using your dictionary, and updating the dictionary count now that you've seen that word again. The `dictionary.get()` method is very useful in doing this. Read the docstring for the dictionary.get() method and use it along with the pseudocode above to create a bar graph of the 25 most common words from the transcript of Macbeth which has been loaded into a variable 'Macbeth'. Be sure to include a title and appropriate labels for your graph."
   ]
  },
  {
   "cell_type": "code",
   "execution_count": 8,
   "metadata": {},
   "outputs": [
    {
     "name": "stdout",
     "output_type": "stream",
     "text": [
      "['the', 'and', 'of', 'to', 'i', 'a', 'you', 'my', 'is', 'in', 'that', 'not', 'with', 'macb.', 'be', 'it', 'his', 'your', 'our', 'this', 'haue', 'for', 'but', 'he', 'what']\n",
      "[639, 425, 395, 373, 261, 254, 200, 192, 187, 185, 156, 144, 140, 137, 136, 131, 130, 127, 118, 116, 106, 104, 88, 86, 83]\n"
     ]
    },
    {
     "data": {
      "image/png": "[encoded data removed]",
      "text/plain": [
       "<Figure size 1080x432 with 1 Axes>"
      ]
     },
     "metadata": {
      "needs_background": "light"
     },
     "output_type": "display_data"
    }
   ],
   "source": [
    "import matplotlib.pyplot as plt\n",
    "import operator\n",
    "\n",
    "\n",
    "%matplotlib inline\n",
    "\n",
    "\n",
    "\n",
    "\n",
    "# data cleaning\n",
    "# remove all special characters from the transcript \n",
    "\n",
    "\n",
    "\n",
    "# Split the transcript into words\n",
    "words = macbeth.split(' ')\n",
    "\n",
    "\n",
    "# Filter words to remove special characters -- or have you done this earlier???\n",
    "# Maybe you'd like to use map() on each word in the list instead?\n",
    "\n",
    "# f_words = []\n",
    "\n",
    "# for word in words:\n",
    "#     word = filter(str.isalnum, word.lower())\n",
    "#     f_words.append(word)\n",
    "\n",
    "    \n",
    "\n",
    "# Create a dictionary\n",
    "d = {}\n",
    "\n",
    "# Iterate through the text of Macbeth (words list)\n",
    "# Update word counts\n",
    "for word in words:  \n",
    "    \n",
    "    if word in d:\n",
    "        d[word] += 1\n",
    "    else:\n",
    "        d[word] = 1\n",
    "\n",
    "        \n",
    "        \n",
    "# \"sort\" dictionary by creating an ordered list of tuples (key-value pairs in tuple format)\n",
    "sorted_d = sorted(d.items(), key=operator.itemgetter(1))  #fancy!\n",
    "d_25 = sorted_d[-26:] # get the last 26 items out of 100K+\n",
    "d_25.pop() # remove ' ' tuple (actual most popular in sorted_d)\n",
    "\n",
    "# Set x and y to keys and values, respectively, in list format\n",
    "x = []\n",
    "y = []\n",
    "\n",
    "for key_val in reversed(d_25):  #reversed for descending order... fancy!\n",
    "    x.append(key_val[0])   # from list of tuples (key-value pairs)\n",
    "    y.append(key_val[1])\n",
    "\n",
    "    \n",
    "print(x)\n",
    "print(y)\n",
    "    \n",
    "        \n",
    "# Create Bar Graph\n",
    "# Include descriptive titles and labels\n",
    "plt.figure(figsize=(15,6))\n",
    "plt.bar(x, y)\n",
    "plt.title('Macbeth\\'s most popular words')\n",
    "plt.xlabel('word')\n",
    "plt.ylabel('no. of occurences')\n",
    "plt.xticks(x, rotation='vertical')\n",
    "plt.show()\n"
   ]
  },
  {
   "cell_type": "markdown",
   "metadata": {},
   "source": [
    "## Level Up (Optional)\n",
    "This project should take you about an hour and a half to complete. If you're done much more quickly than that and are not behind in the course, feel free to deepen your knowledge by completing any or all of the following tasks until you run out of time:\n",
    "* Create a list of top characters by mentions of their names \n",
    "* Split the text by which character is talking\n",
    "* Create subgraphs of the most common words by character\n",
    "* Reduce the string to the text of the play itself. (Remove any initial notes, forward, introduction, appendix, etc.)\n",
    "* Come up with some other fun analyses of the text!\n",
    "\n",
    "## Summary\n",
    "Congratulations! You've got some extra practice combining various data types into useful programming patterns and done an initial analysis of a classic text!"
   ]
  }
 ],
 "metadata": {
  "kernelspec": {
   "display_name": "learn-env",
   "language": "python",
   "name": "learn-env"
  },
  "language_info": {
   "codemirror_mode": {
    "name": "ipython",
    "version": 3
   },
   "file_extension": ".py",
   "mimetype": "text/x-python",
   "name": "python",
   "nbconvert_exporter": "python",
   "pygments_lexer": "ipython3",
   "version": "3.6.6"
  }
 },
 "nbformat": 4,
 "nbformat_minor": 2
}
